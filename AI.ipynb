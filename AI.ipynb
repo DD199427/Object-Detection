{
 "cells": [
  {
   "cell_type": "code",
   "execution_count": 3,
   "id": "brown-tower",
   "metadata": {},
   "outputs": [],
   "source": [
    "from detecto import core, utils, visualize"
   ]
  },
  {
   "cell_type": "code",
   "execution_count": 8,
   "id": "rocky-story",
   "metadata": {},
   "outputs": [],
   "source": [
    "dataset = core.Dataset(r\"C:\\Users\\ADITYA\\Desktop\\AI\\train\\images\")\n",
    "model = core.Model(['bolt'])"
   ]
  },
  {
   "cell_type": "code",
   "execution_count": 9,
   "id": "personal-border",
   "metadata": {},
   "outputs": [
    {
     "name": "stdout",
     "output_type": "stream",
     "text": [
      "False\n"
     ]
    }
   ],
   "source": [
    "import torch\n",
    "\n",
    "print(torch.cuda.is_available())"
   ]
  },
  {
   "cell_type": "code",
   "execution_count": null,
   "id": "canadian-rabbit",
   "metadata": {},
   "outputs": [],
   "source": []
  }
 ],
 "metadata": {
  "kernelspec": {
   "display_name": "Python 3",
   "language": "python",
   "name": "python3"
  },
  "language_info": {
   "codemirror_mode": {
    "name": "ipython",
    "version": 3
   },
   "file_extension": ".py",
   "mimetype": "text/x-python",
   "name": "python",
   "nbconvert_exporter": "python",
   "pygments_lexer": "ipython3",
   "version": "3.6.12"
  }
 },
 "nbformat": 4,
 "nbformat_minor": 5
}
